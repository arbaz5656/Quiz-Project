{
 "cells": [
  {
   "cell_type": "code",
   "execution_count": 1,
   "id": "7d8c5789-799d-425c-9a90-c316c00ceb7e",
   "metadata": {},
   "outputs": [
    {
     "name": "stdout",
     "output_type": "stream",
     "text": [
      "Requirement already satisfied: mysql-connector-python in c:\\users\\infobyte computers\\appdata\\local\\programs\\python\\python312\\lib\\site-packages (9.1.0)\n",
      "Note: you may need to restart the kernel to use updated packages.\n"
     ]
    }
   ],
   "source": [
    "pip install mysql-connector-python\n"
   ]
  },
  {
   "cell_type": "code",
   "execution_count": 3,
   "id": "83b45e21-9a8d-48e6-bd0c-b73dee2d20b4",
   "metadata": {},
   "outputs": [
    {
     "name": "stdout",
     "output_type": "stream",
     "text": [
      "Name: mysql-connector-pythonNote: you may need to restart the kernel to use updated packages.\n",
      "\n",
      "Version: 9.1.0\n",
      "Summary: A self-contained Python driver for communicating with MySQL servers, using an API that is compliant with the Python Database API Specification v2.0 (PEP 249).\n",
      "Home-page: https://dev.mysql.com/doc/connector-python/en/\n",
      "Author: Oracle and/or its affiliates\n",
      "Author-email: \n",
      "License: GNU GPLv2 (with FOSS License Exception)\n",
      "Location: C:\\Users\\INFOBYTE COMPUTERS\\AppData\\Local\\Programs\\Python\\Python312\\Lib\\site-packages\n",
      "Requires: \n",
      "Required-by: \n"
     ]
    }
   ],
   "source": []
  },
  {
   "cell_type": "code",
   "execution_count": 5,
   "id": "2c9b86db-8f4e-40b0-8904-328af616606a",
   "metadata": {},
   "outputs": [
    {
     "name": "stdout",
     "output_type": "stream",
     "text": [
      "Requirement already satisfied: pip in c:\\users\\infobyte computers\\appdata\\local\\programs\\python\\python312\\lib\\site-packages (24.2)Note: you may need to restart the kernel to use updated packages.\n",
      "\n",
      "Collecting pip\n",
      "  Downloading pip-24.3.1-py3-none-any.whl.metadata (3.7 kB)\n",
      "Downloading pip-24.3.1-py3-none-any.whl (1.8 MB)\n",
      "   ---------------------------------------- 0.0/1.8 MB ? eta -:--:--\n",
      "   ---------------------------------- ----- 1.6/1.8 MB 12.0 MB/s eta 0:00:01\n",
      "   ---------------------------------- ----- 1.6/1.8 MB 12.0 MB/s eta 0:00:01\n",
      "   ---------------------------------------- 1.8/1.8 MB 3.0 MB/s eta 0:00:00\n",
      "Installing collected packages: pip\n",
      "  Attempting uninstall: pip\n",
      "    Found existing installation: pip 24.2\n",
      "    Uninstalling pip-24.2:\n",
      "      Successfully uninstalled pip-24.2\n",
      "Successfully installed pip-24.3.1\n"
     ]
    }
   ],
   "source": [
    "pip install --upgrade pip\n"
   ]
  },
  {
   "cell_type": "code",
   "execution_count": 1,
   "id": "4f3a03f0-5946-47b8-8f1b-d7d42d389bff",
   "metadata": {},
   "outputs": [
    {
     "name": "stdout",
     "output_type": "stream",
     "text": [
      "Welcome to the Quiz System\n"
     ]
    },
    {
     "name": "stdin",
     "output_type": "stream",
     "text": [
      "1. Register\n",
      "2. Login\n",
      "3. Exit\n",
      "Select an option:  3\n"
     ]
    },
    {
     "name": "stdout",
     "output_type": "stream",
     "text": [
      "Exiting the Quiz System.\n"
     ]
    }
   ],
   "source": [
    "import mysql.connector\n",
    "\n",
    "# Establish connection to MySQL\n",
    "db = mysql.connector.connect(\n",
    "    host=\"localhost\",\n",
    "    user=\"root\",   # Update with your username\n",
    "    password=\"\",   # Update with your password\n",
    "    database=\"quiz_system\"\n",
    ")\n",
    "\n",
    "cursor = db.cursor()\n",
    "\n",
    "# start function\n",
    "def register_user():\n",
    "    username = input(\"Enter username: \")\n",
    "    password = input(\"Enter password: \")\n",
    "    cursor.execute(\"INSERT INTO users (username, password) VALUES (%s, %s)\", (username, password))\n",
    "    db.commit()\n",
    "    print(\"User registered successfully.\")\n",
    "\n",
    "def login_user():\n",
    "    username = input(\"Enter username: \")\n",
    "    password = input(\"Enter password: \")\n",
    "    cursor.execute(\"SELECT user_id FROM users WHERE username = %s AND password = %s\", (username, password))\n",
    "    user = cursor.fetchone()\n",
    "    if user:\n",
    "        print(\"Login successful.\")\n",
    "        return user[0]\n",
    "    else:\n",
    "        print(\"Invalid credentials.\")\n",
    "        return None\n",
    "\n",
    "\n",
    "# Create quize \n",
    "def create_quiz():\n",
    "    title = input(\"Enter quiz title: \")\n",
    "    cursor.execute(\"INSERT INTO quizzes (title) VALUES (%s)\", (title,))\n",
    "    db.commit()\n",
    "    quiz_id = cursor.lastrowid\n",
    "    add_questions_to_quiz(quiz_id)\n",
    "\n",
    "def add_questions_to_quiz(quiz_id):\n",
    "    while True:\n",
    "        question_text = input(\"Enter question text (or 'quit' to finish): \")\n",
    "        if question_text.lower() == 'quit':\n",
    "            break\n",
    "        correct_answer = input(\"Enter correct answer (A, B, C, or D): \").upper()\n",
    "        cursor.execute(\"INSERT INTO questions (quiz_id, question_text, correct_answer) VALUES (%s, %s, %s)\",\n",
    "                       (quiz_id, question_text, correct_answer))\n",
    "        db.commit()\n",
    "        question_id = cursor.lastrowid\n",
    "        for option_letter in [\"A\", \"B\", \"C\", \"D\"]:\n",
    "            option_text = input(f\"Enter option {option_letter}: \")\n",
    "            cursor.execute(\"INSERT INTO options (question_id, option_text, option_letter) VALUES (%s, %s, %s)\",\n",
    "                           (question_id, option_text, option_letter))\n",
    "            db.commit()\n",
    "# Take quize\n",
    "def take_quiz(user_id):\n",
    "    cursor.execute(\"SELECT quiz_id, title FROM quizzes\")\n",
    "    quizzes = cursor.fetchall()\n",
    "    for quiz in quizzes:\n",
    "        print(f\"{quiz[0]}. {quiz[1]}\")\n",
    "    quiz_id = int(input(\"Select a quiz by ID: \"))\n",
    "\n",
    "    cursor.execute(\"SELECT question_id, question_text FROM questions WHERE quiz_id = %s\", (quiz_id,))\n",
    "    questions = cursor.fetchall()\n",
    "    score = 0\n",
    "\n",
    "    for question in questions:\n",
    "        question_id, question_text = question\n",
    "        print(question_text)\n",
    "        cursor.execute(\"SELECT option_letter, option_text FROM options WHERE question_id = %s\", (question_id,))\n",
    "        options = cursor.fetchall()\n",
    "        for option in options:\n",
    "            print(f\"{option[0]}. {option[1]}\")\n",
    "\n",
    "        user_answer = input(\"Your answer (A, B, C, or D): \").upper()\n",
    "        cursor.execute(\"SELECT correct_answer FROM questions WHERE question_id = %s\", (question_id,))\n",
    "        correct_answer = cursor.fetchone()[0]\n",
    "\n",
    "        if user_answer == correct_answer:\n",
    "            score += 1\n",
    "\n",
    "    cursor.execute(\"INSERT INTO results (user_id, quiz_id, score) VALUES (%s, %s, %s)\", (user_id, quiz_id, score))\n",
    "    db.commit()\n",
    "    print(f\"Quiz completed. Your score: {score}/{len(questions)}\")\n",
    "\n",
    "\n",
    "\n",
    "# User: View Quiz History\n",
    "def view_results(user_id):\n",
    "    cursor.execute(\"\"\"\n",
    "        SELECT quizzes.title, results.score, results.date_taken\n",
    "        FROM results\n",
    "        JOIN quizzes ON results.quiz_id = quizzes.quiz_id\n",
    "        WHERE results.user_id = %s\n",
    "    \"\"\", (user_id,))\n",
    "    results = cursor.fetchall()\n",
    "    for result in results:\n",
    "        print(f\"Quiz: {result[0]}, Score: {result[1]}, Date Taken: {result[2]}\")\n",
    "\n",
    "\n",
    "\n",
    "# Main Program Loop\n",
    "def main():\n",
    "    print(\"Welcome to the Quiz System\")\n",
    "    while True:\n",
    "        choice = input(\"1. Register\\n2. Login\\n3. Exit\\nSelect an option: \")\n",
    "        if choice == '1':\n",
    "            register_user()\n",
    "        elif choice == '2':\n",
    "            user_id = login_user()\n",
    "            if user_id:\n",
    "                while True:\n",
    "                    user_choice = input(\"1. Take Quiz\\n2. View Results\\n3. Log Out\\nSelect an option: \")\n",
    "                    if user_choice == '1':\n",
    "                        take_quiz(user_id)\n",
    "                    elif user_choice == '2':\n",
    "                        view_results(user_id)\n",
    "                    elif user_choice == '3':\n",
    "                        break\n",
    "                    else:\n",
    "                        print(\"Invalid option.\")\n",
    "        elif choice == '3':\n",
    "            print(\"Exiting the Quiz System.\")\n",
    "            break\n",
    "        else:\n",
    "            print(\"Invalid option.\")\n",
    "\n",
    "if __name__ == \"__main__\":\n",
    "    main()\n",
    "\n"
   ]
  },
  {
   "cell_type": "code",
   "execution_count": 2,
   "id": "ceffa28f-d2ea-4601-9467-129b85d19f9f",
   "metadata": {},
   "outputs": [
    {
     "name": "stdout",
     "output_type": "stream",
     "text": [
      "Welcome to the Quiz System\n"
     ]
    },
    {
     "name": "stdin",
     "output_type": "stream",
     "text": [
      "1. Register\n",
      "2. Login\n",
      "3. Exit\n",
      "Select an option:  2\n",
      "Enter username:  arbaz\n",
      "Enter password:  arbaz@123\n"
     ]
    },
    {
     "name": "stdout",
     "output_type": "stream",
     "text": [
      "Login successful. Role: user\n",
      "User login successful.\n"
     ]
    },
    {
     "name": "stdin",
     "output_type": "stream",
     "text": [
      "1. Take Quiz\n",
      "2. View Results\n",
      "3. Log Out\n",
      "Select an option:  1\n"
     ]
    },
    {
     "name": "stdout",
     "output_type": "stream",
     "text": [
      "1. Python basic\n",
      "2. Aws Basic test\n",
      "3. sql test\n"
     ]
    },
    {
     "name": "stdin",
     "output_type": "stream",
     "text": [
      "Select a quiz by ID:  3\n"
     ]
    },
    {
     "name": "stdout",
     "output_type": "stream",
     "text": [
      "Full form of Sql\n",
      "A. Structure query lable\n",
      "B. strcture query language\n",
      "C. sql\n",
      "D. sql1\n"
     ]
    },
    {
     "name": "stdin",
     "output_type": "stream",
     "text": [
      "Your answer (A, B, C, or D):  a\n"
     ]
    },
    {
     "name": "stdout",
     "output_type": "stream",
     "text": [
      "Quiz completed. Your score: 0/1\n"
     ]
    },
    {
     "name": "stdin",
     "output_type": "stream",
     "text": [
      "1. Take Quiz\n",
      "2. View Results\n",
      "3. Log Out\n",
      "Select an option:  2\n"
     ]
    },
    {
     "name": "stdout",
     "output_type": "stream",
     "text": [
      "Quiz: Python basic, Score: 0, Date Taken: 2024-11-14 15:55:38\n",
      "Quiz: Aws Basic test, Score: 1, Date Taken: 2024-11-14 16:42:32\n",
      "Quiz: sql test, Score: 0, Date Taken: 2024-11-14 17:48:20\n"
     ]
    },
    {
     "name": "stdin",
     "output_type": "stream",
     "text": [
      "1. Take Quiz\n",
      "2. View Results\n",
      "3. Log Out\n",
      "Select an option:  3\n",
      "1. Register\n",
      "2. Login\n",
      "3. Exit\n",
      "Select an option:  3\n"
     ]
    },
    {
     "name": "stdout",
     "output_type": "stream",
     "text": [
      "Exiting the Quiz System.\n"
     ]
    }
   ],
   "source": [
    "import mysql.connector\n",
    "\n",
    "db = mysql.connector.connect(\n",
    "    host=\"localhost\",\n",
    "    user=\"root\",   \n",
    "    password=\"\",   \n",
    "    database=\"quiz_system\"\n",
    ")\n",
    "\n",
    "cursor = db.cursor()\n",
    "\n",
    "\n",
    "def register_user():\n",
    "    username = input(\"Enter username: \")\n",
    "    password = input(\"Enter password: \")\n",
    "    role = input(\"Enter role (user/admin): \").lower()\n",
    "    cursor.execute(\"INSERT INTO users (username, password, role) VALUES (%s, %s, %s)\", (username, password, role))\n",
    "    db.commit()\n",
    "    print(\"User registered successfully.\")\n",
    "\n",
    "\n",
    "def login_user():\n",
    "    username = input(\"Enter username: \")\n",
    "    password = input(\"Enter password: \")\n",
    "    cursor.execute(\"SELECT user_id, role FROM users WHERE username = %s AND password = %s\", (username, password))\n",
    "    user = cursor.fetchone()\n",
    "    \n",
    "    if user:\n",
    "        print(f\"Login successful. Role: {user[1]}\")\n",
    "        return user[0], user[1]  \n",
    "    else:\n",
    "        print(\"Invalid credentials.\")\n",
    "        return None, None\n",
    "\n",
    "\n",
    "def admin_create_quiz():\n",
    "    title = input(\"Enter quiz title: \")\n",
    "    cursor.execute(\"INSERT INTO quizzes (title) VALUES (%s)\", (title,))\n",
    "    db.commit()\n",
    "    quiz_id = cursor.lastrowid\n",
    "    print(\"Quiz created successfully.\")\n",
    "    add_questions_to_quiz(quiz_id)\n",
    "\n",
    "def add_questions_to_quiz(quiz_id):\n",
    "    while True:\n",
    "        question_text = input(\"Enter question text (or 'quit' to finish): \")\n",
    "        if question_text.lower() == 'quit':\n",
    "            break\n",
    "        correct_answer = input(\"Enter correct answer (A, B, C, or D): \").upper()\n",
    "        cursor.execute(\"INSERT INTO questions (quiz_id, question_text, correct_answer) VALUES (%s, %s, %s)\",\n",
    "                       (quiz_id, question_text, correct_answer))\n",
    "        db.commit()\n",
    "        question_id = cursor.lastrowid\n",
    "        for option_letter in [\"A\", \"B\", \"C\", \"D\"]:\n",
    "            option_text = input(f\"Enter option {option_letter}: \")\n",
    "            cursor.execute(\"INSERT INTO options (question_id, option_text, option_letter) VALUES (%s, %s, %s)\",\n",
    "                           (question_id, option_text, option_letter))\n",
    "            db.commit()\n",
    "\n",
    "\n",
    "def take_quiz(user_id):\n",
    "    cursor.execute(\"SELECT quiz_id, title FROM quizzes\")\n",
    "    quizzes = cursor.fetchall()\n",
    "    for quiz in quizzes:\n",
    "        print(f\"{quiz[0]}. {quiz[1]}\")\n",
    "    quiz_id = int(input(\"Select a quiz by ID: \"))\n",
    "\n",
    "    cursor.execute(\"SELECT question_id, question_text FROM questions WHERE quiz_id = %s\", (quiz_id,))\n",
    "    questions = cursor.fetchall()\n",
    "    score = 0\n",
    "\n",
    "    for question in questions:\n",
    "        question_id, question_text = question\n",
    "        print(question_text)\n",
    "        cursor.execute(\"SELECT option_letter, option_text FROM options WHERE question_id = %s\", (question_id,))\n",
    "        options = cursor.fetchall()\n",
    "        for option in options:\n",
    "            print(f\"{option[0]}. {option[1]}\")\n",
    "\n",
    "        user_answer = input(\"Your answer (A, B, C, or D): \").upper()\n",
    "        cursor.execute(\"SELECT correct_answer FROM questions WHERE question_id = %s\", (question_id,))\n",
    "        correct_answer = cursor.fetchone()[0]\n",
    "\n",
    "        if user_answer == correct_answer:\n",
    "            score += 1\n",
    "\n",
    "    cursor.execute(\"INSERT INTO results (user_id, quiz_id, score) VALUES (%s, %s, %s)\", (user_id, quiz_id, score))\n",
    "    db.commit()\n",
    "    print(f\"Quiz completed. Your score: {score}/{len(questions)}\")\n",
    "\n",
    "\n",
    "def view_results(user_id):\n",
    "    cursor.execute(\"\"\"\n",
    "        SELECT quizzes.title, results.score, results.date_taken\n",
    "        FROM results\n",
    "        JOIN quizzes ON results.quiz_id = quizzes.quiz_id\n",
    "        WHERE results.user_id = %s\n",
    "    \"\"\", (user_id,))\n",
    "    results = cursor.fetchall()\n",
    "    for result in results:\n",
    "        print(f\"Quiz: {result[0]}, Score: {result[1]}, Date Taken: {result[2]}\")\n",
    "\n",
    "def admin_menu():\n",
    "    while True:\n",
    "        admin_choice = input(\"1. Create Quiz\\n2. Log Out\\nSelect an option: \")\n",
    "        if admin_choice == '1':\n",
    "            admin_create_quiz()\n",
    "        elif admin_choice == '2':\n",
    "            break\n",
    "        else:\n",
    "            print(\"Invalid option.\")\n",
    "\n",
    "\n",
    "def user_menu(user_id):\n",
    "    while True:\n",
    "        user_choice = input(\"1. Take Quiz\\n2. View Results\\n3. Log Out\\nSelect an option: \")\n",
    "        if user_choice == '1':\n",
    "            take_quiz(user_id)\n",
    "        elif user_choice == '2':\n",
    "            view_results(user_id)\n",
    "        elif user_choice == '3':\n",
    "            break\n",
    "        else:\n",
    "            print(\"Invalid option.\")\n",
    "\n",
    "\n",
    "def main():\n",
    "    print(\"Welcome to the Quiz System\")\n",
    "    while True:\n",
    "        choice = input(\"1. Register\\n2. Login\\n3. Exit\\nSelect an option: \")\n",
    "        if choice == '1':\n",
    "            register_user()\n",
    "        elif choice == '2':\n",
    "            user_id, role = login_user()\n",
    "            if user_id:\n",
    "                if role == 'admin':\n",
    "                    print(\"Admin login successful.\")\n",
    "                    admin_menu()\n",
    "                else:\n",
    "                    print(\"User login successful.\")\n",
    "                    user_menu(user_id)\n",
    "        elif choice == '3':\n",
    "            print(\"Exiting the Quiz System.\")\n",
    "            break\n",
    "        else:\n",
    "            print(\"Invalid option.\")\n",
    "\n",
    "if __name__ == \"__main__\":\n",
    "    main()\n"
   ]
  },
  {
   "cell_type": "code",
   "execution_count": null,
   "id": "d96bd954-2bc3-4020-878d-2e2c0bdd4d87",
   "metadata": {},
   "outputs": [],
   "source": []
  }
 ],
 "metadata": {
  "kernelspec": {
   "display_name": "Python 3 (ipykernel)",
   "language": "python",
   "name": "python3"
  },
  "language_info": {
   "codemirror_mode": {
    "name": "ipython",
    "version": 3
   },
   "file_extension": ".py",
   "mimetype": "text/x-python",
   "name": "python",
   "nbconvert_exporter": "python",
   "pygments_lexer": "ipython3",
   "version": "3.12.6"
  }
 },
 "nbformat": 4,
 "nbformat_minor": 5
}
